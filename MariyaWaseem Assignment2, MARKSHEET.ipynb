{
 "cells": [
  {
   "cell_type": "code",
   "execution_count": 1,
   "metadata": {},
   "outputs": [
    {
     "name": "stdout",
     "output_type": "stream",
     "text": [
      "Enter Your English Marks   99\n",
      "Enter Your Islamita Marks   100\n",
      "Enter Your Math Marks   109\n",
      "Your Obtained Marks is 308.0 out of 300\n",
      "ERROR! Enter a valid marks\n"
     ]
    }
   ],
   "source": [
    "English = float(input(\"Enter Your English Marks   \"));\n",
    "Islamiat  = float(input(\"Enter Your Islamita Marks   \"));\n",
    "Math = float(input(\"Enter Your Math Marks   \"));\n",
    "total_marks = 300\n",
    "total_subject_marks = (English + Islamiat + Math);\n",
    "obtained_marks = total_subject_marks /total_marks;\n",
    "percentage = obtained_marks * 100\n",
    "\n",
    "print(\"Your Obtained Marks is \" + str(total_subject_marks) + \" out of 300\");\n",
    "\n",
    "if percentage < 100 and percentage > 80:\n",
    "    print(\"YOUR PERCENTAGE IS \" + str(percentage)  + \" And Your Grade is A+\");\n",
    "    \n",
    "elif percentage < 80 and percentage > 70:\n",
    "    print(\"YOUR PERCENTAGE IS \" + str(percentage)  + \" And Your Grade is A\");\n",
    "    \n",
    "elif percentage < 70 and percentage > 60:\n",
    "    print(\"YOUR PERCENTAGE IS  \" + str(percentage)  + \" And Your Grade is B\");\n",
    "    \n",
    "elif percentage < 60 and percentage > 50:\n",
    "    print(\"YOUR PERCENTAGE IS  \" + str(percentage)  + \" And Your Grade is C\");\n",
    "    \n",
    "elif percentage >100:\n",
    "    print(\"ERROR! Enter a valid marks\");\n",
    "    \n",
    "else:\n",
    "    print(\"YOUR PERCENTAGE IS  \" + str(percentage)  + \" Fail! You need to hard work\");"
   ]
  },
  {
   "cell_type": "code",
   "execution_count": 2,
   "metadata": {},
   "outputs": [
    {
     "name": "stdout",
     "output_type": "stream",
     "text": [
      "Enter Your English Marks   20\n",
      "Enter Your Islamita Marks   19\n",
      "Enter Your Math Marks   3\n",
      "Your Obtained Marks is 42.0 out of 300\n",
      "YOUR PERCENTAGE IS  14.000000000000002 Fail! You need to hard work\n"
     ]
    }
   ],
   "source": [
    "English = float(input(\"Enter Your English Marks   \"));\n",
    "Islamiat  = float(input(\"Enter Your Islamita Marks   \"));\n",
    "Math = float(input(\"Enter Your Math Marks   \"));\n",
    "total_marks = 300\n",
    "total_subject_marks = (English + Islamiat + Math);\n",
    "obtained_marks = total_subject_marks /total_marks;\n",
    "percentage = obtained_marks * 100\n",
    "\n",
    "print(\"Your Obtained Marks is \" + str(total_subject_marks) + \" out of 300\");\n",
    "\n",
    "if percentage < 100 and percentage > 80:\n",
    "    print(\"YOUR PERCENTAGE IS \" + str(percentage)  + \" And Your Grade is A+\");\n",
    "    \n",
    "elif percentage < 80 and percentage > 70:\n",
    "    print(\"YOUR PERCENTAGE IS \" + str(percentage)  + \" And Your Grade is A\");\n",
    "    \n",
    "elif percentage < 70 and percentage > 60:\n",
    "    print(\"YOUR PERCENTAGE IS  \" + str(percentage)  + \" And Your Grade is B\");\n",
    "    \n",
    "elif percentage < 60 and percentage > 50:\n",
    "    print(\"YOUR PERCENTAGE IS  \" + str(percentage)  + \" And Your Grade is C\");\n",
    "    \n",
    "elif percentage >100:\n",
    "    print(\"ERROR! Enter a valid marks\");\n",
    "    \n",
    "else:\n",
    "    print(\"YOUR PERCENTAGE IS  \" + str(percentage)  + \" Fail! You need to hard work\");"
   ]
  },
  {
   "cell_type": "code",
   "execution_count": 3,
   "metadata": {},
   "outputs": [
    {
     "name": "stdout",
     "output_type": "stream",
     "text": [
      "Enter Your English Marks   70\n",
      "Enter Your Islamita Marks   60\n",
      "Enter Your Math Marks   88\n",
      "Your Obtained Marks is 218.0 out of 300\n",
      "YOUR PERCENTAGE IS 72.66666666666667 And Your Grade is A\n"
     ]
    }
   ],
   "source": [
    "English = float(input(\"Enter Your English Marks   \"));\n",
    "Islamiat  = float(input(\"Enter Your Islamita Marks   \"));\n",
    "Math = float(input(\"Enter Your Math Marks   \"));\n",
    "total_marks = 300\n",
    "total_subject_marks = (English + Islamiat + Math);\n",
    "obtained_marks = total_subject_marks /total_marks;\n",
    "percentage = obtained_marks * 100\n",
    "\n",
    "print(\"Your Obtained Marks is \" + str(total_subject_marks) + \" out of 300\");\n",
    "\n",
    "if percentage < 100 and percentage > 80:\n",
    "    print(\"YOUR PERCENTAGE IS \" + str(percentage)  + \" And Your Grade is A+\");\n",
    "    \n",
    "elif percentage < 80 and percentage > 70:\n",
    "    print(\"YOUR PERCENTAGE IS \" + str(percentage)  + \" And Your Grade is A\");\n",
    "    \n",
    "elif percentage < 70 and percentage > 60:\n",
    "    print(\"YOUR PERCENTAGE IS  \" + str(percentage)  + \" And Your Grade is B\");\n",
    "    \n",
    "elif percentage < 60 and percentage > 50:\n",
    "    print(\"YOUR PERCENTAGE IS  \" + str(percentage)  + \" And Your Grade is C\");\n",
    "    \n",
    "elif percentage >100:\n",
    "    print(\"ERROR! Enter a valid marks\");\n",
    "    \n",
    "else:\n",
    "    print(\"YOUR PERCENTAGE IS  \" + str(percentage)  + \" Fail! You need to hard work\");"
   ]
  },
  {
   "cell_type": "code",
   "execution_count": null,
   "metadata": {},
   "outputs": [],
   "source": []
  }
 ],
 "metadata": {
  "kernelspec": {
   "display_name": "Python 3",
   "language": "python",
   "name": "python3"
  },
  "language_info": {
   "codemirror_mode": {
    "name": "ipython",
    "version": 3
   },
   "file_extension": ".py",
   "mimetype": "text/x-python",
   "name": "python",
   "nbconvert_exporter": "python",
   "pygments_lexer": "ipython3",
   "version": "3.7.6"
  }
 },
 "nbformat": 4,
 "nbformat_minor": 4
}
